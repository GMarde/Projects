{
 "cells": [
  {
   "cell_type": "markdown",
   "metadata": {
    "application/vnd.databricks.v1+cell": {
     "cellMetadata": {},
     "inputWidgets": {},
     "nuid": "e36cd697-ff61-458d-90f3-334d4d087c5b",
     "showTitle": false,
     "title": ""
    }
   },
   "source": [
    "### Databricks - PySpark io"
   ]
  },
  {
   "cell_type": "code",
   "execution_count": 0,
   "metadata": {
    "application/vnd.databricks.v1+cell": {
     "cellMetadata": {},
     "inputWidgets": {},
     "nuid": "14b2e3db-87a6-4577-affc-08dfe2a43164",
     "showTitle": false,
     "title": ""
    }
   },
   "outputs": [
    {
     "data": {
      "text/plain": [
       "Out[78]: 1001"
      ]
     },
     "metadata": {
      "application/vnd.databricks.v1+output": {
       "addedWidgets": {},
       "arguments": {},
       "data": "Out[78]: 1001",
       "datasetInfos": [],
       "metadata": {},
       "name": null,
       "removedWidgets": [],
       "type": "ansi"
      }
     },
     "output_type": "display_data"
    }
   ],
   "source": [
    "df1 = spark.read.format(\"csv\").load(\"dbfs:/FileStore/shared_uploads/andrewnaffer3@gmail.com/marca_carro.csv\")\n",
    "df2 = spark.read.format(\"csv\").load(\"dbfs:/FileStore/shared_uploads/andrewnaffer3@gmail.com/marcas_duplicadas.csv\")\n",
    "df3 = spark.read.format(\"csv\").load(\"dbfs:/FileStore/shared_uploads/andrewnaffer3@gmail.com/modelo_carro.csv\")\n",
    "df3.count()"
   ]
  },
  {
   "cell_type": "code",
   "execution_count": 0,
   "metadata": {
    "application/vnd.databricks.v1+cell": {
     "cellMetadata": {},
     "inputWidgets": {},
     "nuid": "aa745fa2-9b4e-4637-a1eb-8a2512035974",
     "showTitle": false,
     "title": ""
    }
   },
   "outputs": [
    {
     "data": {
      "text/plain": [
       "Out[79]: [Row(_c0='id_carro', _c1='modelo_carro', _c2='preco', _c3='cod_marca'),\n",
       " Row(_c0='1', _c1='Avalon', _c2='$78401.95', _c3='54'),\n",
       " Row(_c0='2', _c1='RDX', _c2='$95987.38', _c3='1'),\n",
       " Row(_c0='3', _c1='Golf', _c2='$61274.55', _c3='55'),\n",
       " Row(_c0='4', _c1='EX', _c2='$84981.12', _c3='23')]"
      ]
     },
     "metadata": {
      "application/vnd.databricks.v1+output": {
       "addedWidgets": {},
       "arguments": {},
       "data": "Out[79]: [Row(_c0='id_carro', _c1='modelo_carro', _c2='preco', _c3='cod_marca'),\n Row(_c0='1', _c1='Avalon', _c2='$78401.95', _c3='54'),\n Row(_c0='2', _c1='RDX', _c2='$95987.38', _c3='1'),\n Row(_c0='3', _c1='Golf', _c2='$61274.55', _c3='55'),\n Row(_c0='4', _c1='EX', _c2='$84981.12', _c3='23')]",
       "datasetInfos": [],
       "metadata": {},
       "name": null,
       "removedWidgets": [],
       "type": "ansi"
      }
     },
     "output_type": "display_data"
    }
   ],
   "source": [
    "df3.head(5)\n",
    "#display(df3)"
   ]
  },
  {
   "cell_type": "code",
   "execution_count": 0,
   "metadata": {
    "application/vnd.databricks.v1+cell": {
     "cellMetadata": {},
     "inputWidgets": {},
     "nuid": "ec3c83bb-f16a-4982-891f-d8305228eb0b",
     "showTitle": false,
     "title": ""
    }
   },
   "outputs": [],
   "source": [
    "df3.write.format(\"csv\").mode(\"overwrite\").save(\"/aprendizado/mode_carro\")\n",
    "df2.write.format(\"csv\").mode(\"overwrite\").save(\"/aprendizado/marcas_duplicadas\")\n",
    "df1.write.format(\"csv\").mode(\"overwrite\").save(\"/aprendizado/marca_carro\")"
   ]
  },
  {
   "cell_type": "code",
   "execution_count": 0,
   "metadata": {
    "application/vnd.databricks.v1+cell": {
     "cellMetadata": {},
     "inputWidgets": {},
     "nuid": "829be2e3-bb7f-461e-9baa-88b06bb528c7",
     "showTitle": false,
     "title": ""
    }
   },
   "outputs": [
    {
     "data": {
      "text/plain": [
       "1001\n"
      ]
     },
     "metadata": {
      "application/vnd.databricks.v1+output": {
       "addedWidgets": {},
       "arguments": {},
       "data": "1001\n",
       "datasetInfos": [],
       "metadata": {},
       "name": null,
       "removedWidgets": [],
       "type": "ansi"
      }
     },
     "output_type": "display_data"
    }
   ],
   "source": [
    "df_carro = spark.read.format(\"csv\").load(\"/aprendizado/mode_carro\")\n",
    "print(df_carro.count())"
   ]
  },
  {
   "cell_type": "code",
   "execution_count": 0,
   "metadata": {
    "application/vnd.databricks.v1+cell": {
     "cellMetadata": {},
     "inputWidgets": {},
     "nuid": "bfcd8666-ca0d-44b0-8e33-a411872abcf8",
     "showTitle": false,
     "title": ""
    }
   },
   "outputs": [
    {
     "data": {
      "text/plain": [
       "Out[82]: [Row(_c0='id_carro', _c1='modelo_carro', _c2='preco', _c3='cod_marca'),\n",
       " Row(_c0='1', _c1='Avalon', _c2='$78401.95', _c3='54'),\n",
       " Row(_c0='2', _c1='RDX', _c2='$95987.38', _c3='1'),\n",
       " Row(_c0='3', _c1='Golf', _c2='$61274.55', _c3='55'),\n",
       " Row(_c0='4', _c1='EX', _c2='$84981.12', _c3='23')]"
      ]
     },
     "metadata": {
      "application/vnd.databricks.v1+output": {
       "addedWidgets": {},
       "arguments": {},
       "data": "Out[82]: [Row(_c0='id_carro', _c1='modelo_carro', _c2='preco', _c3='cod_marca'),\n Row(_c0='1', _c1='Avalon', _c2='$78401.95', _c3='54'),\n Row(_c0='2', _c1='RDX', _c2='$95987.38', _c3='1'),\n Row(_c0='3', _c1='Golf', _c2='$61274.55', _c3='55'),\n Row(_c0='4', _c1='EX', _c2='$84981.12', _c3='23')]",
       "datasetInfos": [],
       "metadata": {},
       "name": null,
       "removedWidgets": [],
       "type": "ansi"
      }
     },
     "output_type": "display_data"
    }
   ],
   "source": [
    "df_carro.head(5)\n",
    "#display(df_carro)"
   ]
  },
  {
   "cell_type": "code",
   "execution_count": 0,
   "metadata": {
    "application/vnd.databricks.v1+cell": {
     "cellMetadata": {},
     "inputWidgets": {},
     "nuid": "0ed6c6e0-acb4-4e2b-8c31-23e15c1e43a7",
     "showTitle": false,
     "title": ""
    }
   },
   "outputs": [
    {
     "data": {
      "text/plain": [
       "Out[83]: [Row(_c0='id_carro', _c1='modelo_carro', _c2='preco', _c3='cod_marca'),\n",
       " Row(_c0='1', _c1='Avalon', _c2='$78401.95', _c3='54'),\n",
       " Row(_c0='2', _c1='RDX', _c2='$95987.38', _c3='1'),\n",
       " Row(_c0='3', _c1='Golf', _c2='$61274.55', _c3='55'),\n",
       " Row(_c0='4', _c1='EX', _c2='$84981.12', _c3='23')]"
      ]
     },
     "metadata": {
      "application/vnd.databricks.v1+output": {
       "addedWidgets": {},
       "arguments": {},
       "data": "Out[83]: [Row(_c0='id_carro', _c1='modelo_carro', _c2='preco', _c3='cod_marca'),\n Row(_c0='1', _c1='Avalon', _c2='$78401.95', _c3='54'),\n Row(_c0='2', _c1='RDX', _c2='$95987.38', _c3='1'),\n Row(_c0='3', _c1='Golf', _c2='$61274.55', _c3='55'),\n Row(_c0='4', _c1='EX', _c2='$84981.12', _c3='23')]",
       "datasetInfos": [],
       "metadata": {},
       "name": null,
       "removedWidgets": [],
       "type": "ansi"
      }
     },
     "output_type": "display_data"
    }
   ],
   "source": [
    "df_carros = spark.read.format(\"csv\").option(\"header\", True).load(\"/aprendizado/mode_carro\", sep = \",\")\n",
    "df_carro.head(5)\n",
    "#display(df_carro)"
   ]
  },
  {
   "cell_type": "code",
   "execution_count": 0,
   "metadata": {
    "application/vnd.databricks.v1+cell": {
     "cellMetadata": {},
     "inputWidgets": {},
     "nuid": "0d961564-8ef0-4759-992b-9b24d9736a50",
     "showTitle": false,
     "title": ""
    }
   },
   "outputs": [
    {
     "data": {
      "text/plain": [
       "Out[84]: [Row(modelo='Avalon', id_carro='1'),\n",
       " Row(modelo='RDX', id_carro='2'),\n",
       " Row(modelo='Golf', id_carro='3'),\n",
       " Row(modelo='EX', id_carro='4'),\n",
       " Row(modelo='Escort', id_carro='5')]"
      ]
     },
     "metadata": {
      "application/vnd.databricks.v1+output": {
       "addedWidgets": {},
       "arguments": {},
       "data": "Out[84]: [Row(modelo='Avalon', id_carro='1'),\n Row(modelo='RDX', id_carro='2'),\n Row(modelo='Golf', id_carro='3'),\n Row(modelo='EX', id_carro='4'),\n Row(modelo='Escort', id_carro='5')]",
       "datasetInfos": [],
       "metadata": {},
       "name": null,
       "removedWidgets": [],
       "type": "ansi"
      }
     },
     "output_type": "display_data"
    }
   ],
   "source": [
    "## Visualizando os dados usando comandos SQL\n",
    "\n",
    "df_carros.createOrReplaceTempView(\"carros\")\n",
    "df_carros_sql = spark.sql(\"\"\"\n",
    "SELECT \n",
    "modelo_carro AS modelo, id_carro\n",
    "FROM\n",
    "carros\n",
    "\"\"\")\n",
    "df_carros_sql.head(5)\n",
    "#display(df_carros_sql)"
   ]
  },
  {
   "cell_type": "code",
   "execution_count": 0,
   "metadata": {
    "application/vnd.databricks.v1+cell": {
     "cellMetadata": {},
     "inputWidgets": {},
     "nuid": "424406f4-ac1f-4187-892e-f5f6072aebb8",
     "showTitle": false,
     "title": ""
    }
   },
   "outputs": [
    {
     "data": {
      "text/plain": [
       "Out[85]: [Row(modelo='Avalon', id_carro='1'),\n",
       " Row(modelo='RDX', id_carro='2'),\n",
       " Row(modelo='Golf', id_carro='3'),\n",
       " Row(modelo='EX', id_carro='4'),\n",
       " Row(modelo='Escort', id_carro='5')]"
      ]
     },
     "metadata": {
      "application/vnd.databricks.v1+output": {
       "addedWidgets": {},
       "arguments": {},
       "data": "Out[85]: [Row(modelo='Avalon', id_carro='1'),\n Row(modelo='RDX', id_carro='2'),\n Row(modelo='Golf', id_carro='3'),\n Row(modelo='EX', id_carro='4'),\n Row(modelo='Escort', id_carro='5')]",
       "datasetInfos": [],
       "metadata": {},
       "name": null,
       "removedWidgets": [],
       "type": "ansi"
      }
     },
     "output_type": "display_data"
    }
   ],
   "source": [
    "df_carros_spark = df_carros.selectExpr(\"modelo_carro AS modelo\", \"id_carro\")\n",
    "df_carros_spark.head(5)\n",
    "#display(df_carros_spark)"
   ]
  },
  {
   "cell_type": "code",
   "execution_count": 0,
   "metadata": {
    "application/vnd.databricks.v1+cell": {
     "cellMetadata": {},
     "inputWidgets": {},
     "nuid": "86f76483-87ea-4e65-95c9-1a25ef4563cd",
     "showTitle": false,
     "title": ""
    }
   },
   "outputs": [
    {
     "data": {
      "text/plain": [
       "Out[86]: [Row(modelo='Avalon', id_carro='1'),\n",
       " Row(modelo='RDX', id_carro='2'),\n",
       " Row(modelo='Golf', id_carro='3'),\n",
       " Row(modelo='EX', id_carro='4'),\n",
       " Row(modelo='Escort', id_carro='5')]"
      ]
     },
     "metadata": {
      "application/vnd.databricks.v1+output": {
       "addedWidgets": {},
       "arguments": {},
       "data": "Out[86]: [Row(modelo='Avalon', id_carro='1'),\n Row(modelo='RDX', id_carro='2'),\n Row(modelo='Golf', id_carro='3'),\n Row(modelo='EX', id_carro='4'),\n Row(modelo='Escort', id_carro='5')]",
       "datasetInfos": [],
       "metadata": {},
       "name": null,
       "removedWidgets": [],
       "type": "ansi"
      }
     },
     "output_type": "display_data"
    }
   ],
   "source": [
    "from pyspark.sql.functions import col\n",
    "df_carros_spark1 = df_carros.select(col(\"modelo_carro\").alias(\"modelo\"), \"id_carro\")\n",
    "df_carros_spark1.head(5)\n",
    "#display(df_carros_spark1)"
   ]
  },
  {
   "cell_type": "code",
   "execution_count": 0,
   "metadata": {
    "application/vnd.databricks.v1+cell": {
     "cellMetadata": {},
     "inputWidgets": {},
     "nuid": "bc57b20b-182f-42f4-b35d-d520fc3f01f2",
     "showTitle": false,
     "title": ""
    }
   },
   "outputs": [],
   "source": [
    "# Filtros com SQL\n",
    "df_carro_01 = spark.read.format(\"csv\").option(\"header\", True).load(\"/aprendizado/mode_carro\")"
   ]
  },
  {
   "cell_type": "code",
   "execution_count": 0,
   "metadata": {
    "application/vnd.databricks.v1+cell": {
     "cellMetadata": {},
     "inputWidgets": {},
     "nuid": "3ab263c7-a880-41d2-b643-641db373a239",
     "showTitle": false,
     "title": ""
    }
   },
   "outputs": [],
   "source": [
    "df_carro_01.createOrReplaceTempView(\"carros\")\n",
    "df_carros_sql01 = spark"
   ]
  },
  {
   "cell_type": "code",
   "execution_count": 0,
   "metadata": {
    "application/vnd.databricks.v1+cell": {
     "cellMetadata": {
      "implicitDf": true
     },
     "inputWidgets": {},
     "nuid": "2e6d63b1-7eb4-4c03-859e-14e61124e41f",
     "showTitle": false,
     "title": ""
    }
   },
   "outputs": [
    {
     "data": {
      "text/html": [
       "<style scoped>\n",
       "  .table-result-container {\n",
       "    max-height: 300px;\n",
       "    overflow: auto;\n",
       "  }\n",
       "  table, th, td {\n",
       "    border: 1px solid black;\n",
       "    border-collapse: collapse;\n",
       "  }\n",
       "  th, td {\n",
       "    padding: 5px;\n",
       "  }\n",
       "  th {\n",
       "    text-align: left;\n",
       "  }\n",
       "</style><div class='table-result-container'><table class='table-result'><thead style='background-color: white'><tr><th>id_carro</th><th>modelo_carro</th><th>preco</th><th>cod_marca</th></tr></thead><tbody><tr><td>1</td><td>Avalon</td><td>$78401.95</td><td>54</td></tr></tbody></table></div>"
      ]
     },
     "metadata": {
      "application/vnd.databricks.v1+output": {
       "addedWidgets": {},
       "aggData": [],
       "aggError": "",
       "aggOverflow": false,
       "aggSchema": [],
       "aggSeriesLimitReached": false,
       "aggType": "",
       "arguments": {},
       "columnCustomDisplayInfos": {},
       "data": [
        [
         "1",
         "Avalon",
         "$78401.95",
         "54"
        ]
       ],
       "datasetInfos": [],
       "dbfsResultPath": null,
       "isJsonSchema": true,
       "metadata": {},
       "overflow": false,
       "plotOptions": {
        "customPlotOptions": {},
        "displayType": "table",
        "pivotAggregation": null,
        "pivotColumns": null,
        "xColumns": null,
        "yColumns": null
       },
       "removedWidgets": [],
       "schema": [
        {
         "metadata": "{}",
         "name": "id_carro",
         "type": "\"string\""
        },
        {
         "metadata": "{}",
         "name": "modelo_carro",
         "type": "\"string\""
        },
        {
         "metadata": "{}",
         "name": "preco",
         "type": "\"string\""
        },
        {
         "metadata": "{}",
         "name": "cod_marca",
         "type": "\"string\""
        }
       ],
       "type": "table"
      }
     },
     "output_type": "display_data"
    }
   ],
   "source": [
    "%sql\n",
    "SELECT * FROM carros\n",
    "WHERE id_carro = 1\n",
    "AND modelo_carro = \"Avalon\""
   ]
  },
  {
   "cell_type": "code",
   "execution_count": 0,
   "metadata": {
    "application/vnd.databricks.v1+cell": {
     "cellMetadata": {},
     "inputWidgets": {},
     "nuid": "26b83c2e-fd2d-4fa5-bd0b-3f6866c93173",
     "showTitle": false,
     "title": ""
    }
   },
   "outputs": [
    {
     "data": {
      "text/html": [
       "<style scoped>\n",
       "  .table-result-container {\n",
       "    max-height: 300px;\n",
       "    overflow: auto;\n",
       "  }\n",
       "  table, th, td {\n",
       "    border: 1px solid black;\n",
       "    border-collapse: collapse;\n",
       "  }\n",
       "  th, td {\n",
       "    padding: 5px;\n",
       "  }\n",
       "  th {\n",
       "    text-align: left;\n",
       "  }\n",
       "</style><div class='table-result-container'><table class='table-result'><thead style='background-color: white'><tr><th>id_carro</th><th>modelo_carro</th><th>preco</th><th>cod_marca</th></tr></thead><tbody><tr><td>1</td><td>Avalon</td><td>$78401.95</td><td>54</td></tr></tbody></table></div>"
      ]
     },
     "metadata": {
      "application/vnd.databricks.v1+output": {
       "addedWidgets": {},
       "aggData": [],
       "aggError": "",
       "aggOverflow": false,
       "aggSchema": [],
       "aggSeriesLimitReached": false,
       "aggType": "",
       "arguments": {},
       "columnCustomDisplayInfos": {},
       "data": [
        [
         "1",
         "Avalon",
         "$78401.95",
         "54"
        ]
       ],
       "datasetInfos": [],
       "dbfsResultPath": null,
       "isJsonSchema": true,
       "metadata": {},
       "overflow": false,
       "plotOptions": {
        "customPlotOptions": {},
        "displayType": "table",
        "pivotAggregation": null,
        "pivotColumns": null,
        "xColumns": null,
        "yColumns": null
       },
       "removedWidgets": [],
       "schema": [
        {
         "metadata": "{}",
         "name": "id_carro",
         "type": "\"string\""
        },
        {
         "metadata": "{}",
         "name": "modelo_carro",
         "type": "\"string\""
        },
        {
         "metadata": "{}",
         "name": "preco",
         "type": "\"string\""
        },
        {
         "metadata": "{}",
         "name": "cod_marca",
         "type": "\"string\""
        }
       ],
       "type": "table"
      }
     },
     "output_type": "display_data"
    }
   ],
   "source": [
    "from pyspark.sql.functions import col\n",
    "\n",
    "display(\n",
    "    df_carro_01.where(\n",
    "        (col(\"id_carro\") == \"1\") &\n",
    "        (col(\"modelo_carro\") == \"Avalon\")\n",
    ")\n",
    "        )\n",
    "        "
   ]
  },
  {
   "cell_type": "code",
   "execution_count": 0,
   "metadata": {
    "application/vnd.databricks.v1+cell": {
     "cellMetadata": {},
     "inputWidgets": {},
     "nuid": "80abaa38-f2c5-4dbf-8902-f5474c824951",
     "showTitle": false,
     "title": ""
    }
   },
   "outputs": [
    {
     "data": {
      "text/html": [
       "<style scoped>\n",
       "  .table-result-container {\n",
       "    max-height: 300px;\n",
       "    overflow: auto;\n",
       "  }\n",
       "  table, th, td {\n",
       "    border: 1px solid black;\n",
       "    border-collapse: collapse;\n",
       "  }\n",
       "  th, td {\n",
       "    padding: 5px;\n",
       "  }\n",
       "  th {\n",
       "    text-align: left;\n",
       "  }\n",
       "</style><div class='table-result-container'><table class='table-result'><thead style='background-color: white'><tr><th>id_carro</th><th>modelo_carro</th><th>preco</th><th>cod_marca</th></tr></thead><tbody><tr><td>1</td><td>Avalon</td><td>$78401.95</td><td>54</td></tr></tbody></table></div>"
      ]
     },
     "metadata": {
      "application/vnd.databricks.v1+output": {
       "addedWidgets": {},
       "aggData": [],
       "aggError": "",
       "aggOverflow": false,
       "aggSchema": [],
       "aggSeriesLimitReached": false,
       "aggType": "",
       "arguments": {},
       "columnCustomDisplayInfos": {},
       "data": [
        [
         "1",
         "Avalon",
         "$78401.95",
         "54"
        ]
       ],
       "datasetInfos": [],
       "dbfsResultPath": null,
       "isJsonSchema": true,
       "metadata": {},
       "overflow": false,
       "plotOptions": {
        "customPlotOptions": {},
        "displayType": "table",
        "pivotAggregation": null,
        "pivotColumns": null,
        "xColumns": null,
        "yColumns": null
       },
       "removedWidgets": [],
       "schema": [
        {
         "metadata": "{}",
         "name": "id_carro",
         "type": "\"string\""
        },
        {
         "metadata": "{}",
         "name": "modelo_carro",
         "type": "\"string\""
        },
        {
         "metadata": "{}",
         "name": "preco",
         "type": "\"string\""
        },
        {
         "metadata": "{}",
         "name": "cod_marca",
         "type": "\"string\""
        }
       ],
       "type": "table"
      }
     },
     "output_type": "display_data"
    }
   ],
   "source": [
    "df_carros = spark.read.format(\"csv\").option(\"header\", True).load(\"/aprendizado/mode_carro\")\n",
    "display(df_carros.where(\"id_carro = '1'\"))\n",
    "df_carros.createOrReplaceTempView(\"carros\")"
   ]
  }
 ],
 "metadata": {
  "application/vnd.databricks.v1+notebook": {
   "dashboards": [],
   "language": "python",
   "notebookMetadata": {
    "mostRecentlyExecutedCommandWithImplicitDF": {
     "commandId": 3109392500046957,
     "dataframes": [
      "_sqldf"
     ]
    },
    "pythonIndentUnit": 4
   },
   "notebookName": "Dados no Sistema",
   "notebookOrigID": 3512156114389433,
   "widgets": {}
  },
  "kernelspec": {
   "display_name": "Python 3 (ipykernel)",
   "language": "python",
   "name": "python3"
  },
  "language_info": {
   "codemirror_mode": {
    "name": "ipython",
    "version": 3
   },
   "file_extension": ".py",
   "mimetype": "text/x-python",
   "name": "python",
   "nbconvert_exporter": "python",
   "pygments_lexer": "ipython3",
   "version": "3.9.12"
  }
 },
 "nbformat": 4,
 "nbformat_minor": 1
}
